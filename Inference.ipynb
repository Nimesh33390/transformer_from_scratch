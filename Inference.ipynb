{
 "cells": [
  {
   "cell_type": "code",
   "execution_count": 1,
   "metadata": {},
   "outputs": [
    {
     "name": "stderr",
     "output_type": "stream",
     "text": [
      "c:\\Users\\NIMESH PARMAR\\anaconda3\\envs\\myenv\\lib\\site-packages\\tqdm\\auto.py:21: TqdmWarning: IProgress not found. Please update jupyter and ipywidgets. See https://ipywidgets.readthedocs.io/en/stable/user_install.html\n",
      "  from .autonotebook import tqdm as notebook_tqdm\n",
      "c:\\Users\\NIMESH PARMAR\\anaconda3\\envs\\myenv\\lib\\site-packages\\torchaudio\\backend\\utils.py:74: UserWarning: No audio backend is available.\n",
      "  warnings.warn(\"No audio backend is available.\")\n"
     ]
    },
    {
     "name": "stdout",
     "output_type": "stream",
     "text": [
      "Using device: cuda\n",
      "    SOURCE: --f=\"c:\\Users\\NIMESH PARMAR\\AppData\\Roaming\\jupyter\\runtime\\kernel-v30c80766dab96581e1705b7a42e449d9ad695a864.json\"\n",
      " PREDICTED:                                                                                                    "
     ]
    }
   ],
   "source": [
    "from pathlib import Path\n",
    "import torch\n",
    "import torch.nn as nn\n",
    "from config import get_config, latest_weights_file_path\n",
    "from train import get_model, get_ds, run_validation\n",
    "from translate import translate"
   ]
  },
  {
   "cell_type": "code",
   "execution_count": 2,
   "metadata": {},
   "outputs": [
    {
     "name": "stdout",
     "output_type": "stream",
     "text": [
      "Using device: cuda\n",
      "Max length of source sentence: 70\n",
      "Max length of target sentence: 98\n"
     ]
    },
    {
     "data": {
      "text/plain": [
       "<All keys matched successfully>"
      ]
     },
     "execution_count": 2,
     "metadata": {},
     "output_type": "execute_result"
    }
   ],
   "source": [
    "# Define the device\n",
    "device = torch.device(\"cuda\" if torch.cuda.is_available() else \"cpu\")\n",
    "print(\"Using device:\", device)\n",
    "config = get_config()\n",
    "train_dataloader, val_dataloader, tokenizer_src, tokenizer_tgt = get_ds(config)\n",
    "model = get_model(config, tokenizer_src.get_vocab_size(), tokenizer_tgt.get_vocab_size()).to(device)\n",
    "\n",
    "# Load the pretrained weights\n",
    "model_filename = latest_weights_file_path(config)\n",
    "state = torch.load(model_filename)\n",
    "model.load_state_dict(state['model_state_dict'])"
   ]
  },
  {
   "cell_type": "code",
   "execution_count": 3,
   "metadata": {},
   "outputs": [
    {
     "name": "stdout",
     "output_type": "stream",
     "text": [
      "--------------------------------------------------------------------------------\n",
      "    SOURCE: Push all branches and tags\n",
      "    TARGET: दबाएँ सभी और\n",
      " PREDICTED: दबाएँ सभी और\n",
      "--------------------------------------------------------------------------------\n",
      "    SOURCE: Clean module associated with current file\n",
      "    TARGET: साफ के साथ फ़ाइल\n",
      " PREDICTED: साफ के साथ फ़ाइल\n",
      "--------------------------------------------------------------------------------\n",
      "    SOURCE: Path\n",
      "    TARGET: पथ\n",
      " PREDICTED: पथ\n",
      "--------------------------------------------------------------------------------\n",
      "    SOURCE: Highlight current line\n",
      "    TARGET: मौजूदा पंक्ति को उभारें\n",
      " PREDICTED: मौजूदा पंक्ति को उभारें\n",
      "--------------------------------------------------------------------------------\n",
      "    SOURCE: Move something on to an empty reserve\n",
      "    TARGET: खाली बची अतिरिक्त जगह पर कुछ ले जाएँ\n",
      " PREDICTED: खाली बची अतिरिक्त जगह पर कुछ ले जाएँ\n",
      "--------------------------------------------------------------------------------\n",
      "    SOURCE: Add to Project\n",
      "    TARGET: परियोजना में जोड़ें\n",
      " PREDICTED: परियोजना में जोड़ें\n",
      "--------------------------------------------------------------------------------\n",
      "    SOURCE: PID\n",
      "    TARGET: PID\n",
      " PREDICTED: PID\n",
      "--------------------------------------------------------------------------------\n",
      "    SOURCE: Load API tags for C standard library\n",
      "    TARGET: लोड API के लिए सी\n",
      " PREDICTED: लोड API के लिए सी\n",
      "--------------------------------------------------------------------------------\n",
      "    SOURCE: % d%%\n",
      "    TARGET: % d%% Not ApplicableNot Applicable\n",
      " PREDICTED: % d %% Not ApplicableNot Applicable\n",
      "--------------------------------------------------------------------------------\n",
      "    SOURCE: Modify\n",
      "    TARGET: सुधारें\n",
      " PREDICTED: सुधारें\n",
      "--------------------------------------------------------------------------------\n"
     ]
    }
   ],
   "source": [
    "run_validation(model, val_dataloader, tokenizer_src, tokenizer_tgt, config['seq_len'], device, lambda msg: print(msg), 0, None, num_examples=10)"
   ]
  },
  {
   "cell_type": "code",
   "execution_count": 9,
   "metadata": {},
   "outputs": [
    {
     "name": "stdout",
     "output_type": "stream",
     "text": [
      "Using device: cuda\n",
      "    SOURCE: I\n",
      " PREDICTED: मैं सुनिश्चित सुनिश्चित हूं मैं सुनिश्चित नहीं मैं सुनिश्चित नहीं है % Id % s मैं सुनिश्चित सुनिश्चित सुनिश्चित eel सुनिश्चित नहीं किया गया है  "
     ]
    }
   ],
   "source": [
    "t = translate(\"I\")"
   ]
  },
  {
   "cell_type": "code",
   "execution_count": 10,
   "metadata": {},
   "outputs": [
    {
     "name": "stdout",
     "output_type": "stream",
     "text": [
      "Using device: cuda\n",
      "        ID: 34\n",
      "    SOURCE: _ Accessible\n",
      "    TARGET: पहुंचनीय\n",
      " PREDICTED: पहुंचनीय  "
     ]
    }
   ],
   "source": [
    "t = translate(34)"
   ]
  },
  {
   "cell_type": "code",
   "execution_count": null,
   "metadata": {},
   "outputs": [],
   "source": []
  }
 ],
 "metadata": {
  "kernelspec": {
   "display_name": "myenv",
   "language": "python",
   "name": "python3"
  },
  "language_info": {
   "codemirror_mode": {
    "name": "ipython",
    "version": 3
   },
   "file_extension": ".py",
   "mimetype": "text/x-python",
   "name": "python",
   "nbconvert_exporter": "python",
   "pygments_lexer": "ipython3",
   "version": "3.9.23"
  },
  "orig_nbformat": 4
 },
 "nbformat": 4,
 "nbformat_minor": 2
}
